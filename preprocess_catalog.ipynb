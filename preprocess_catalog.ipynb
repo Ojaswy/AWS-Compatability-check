{
 "cells": [
  {
   "cell_type": "code",
   "execution_count": 6,
   "id": "b9d0e6c1",
   "metadata": {},
   "outputs": [],
   "source": [
    "import pandas as pd\n",
    "import json\n",
    "import ast\n",
    "\n",
    "def try_parse_cell(cell):\n",
    "    \"\"\"Parse a cell that may be a dict/list or JSON/Python literal string.\"\"\"\n",
    "    if cell is None:\n",
    "        return None\n",
    "    if isinstance(cell, (dict, list)):\n",
    "        return cell\n",
    "    s = str(cell).strip()\n",
    "    if s == \"\" or s.lower() == \"nan\":\n",
    "        return None\n",
    "    try:\n",
    "        return json.loads(s)\n",
    "    except Exception:\n",
    "        pass\n",
    "    try:\n",
    "        return ast.literal_eval(s)\n",
    "    except Exception:\n",
    "        pass\n",
    "    return None\n",
    "\n",
    "def extract_minimal_resources_from_row(row):\n",
    "    \"\"\"Extract InstanceType, vCPUs, MemoryMiB, GPUs from a full catalog row.\"\"\"\n",
    "    name = row.get(\"InstanceType\") or row.get(\"instance_type\")\n",
    "    vcpu = 0\n",
    "    mem = 0\n",
    "    gpus = 0\n",
    "\n",
    "    # VCpuInfo\n",
    "    vc = row.get(\"VCpuInfo\")\n",
    "    if vc:\n",
    "        parsed = try_parse_cell(vc)\n",
    "        if isinstance(parsed, dict):\n",
    "            vcpu = int(parsed.get(\"DefaultVCpus\", parsed.get(\"DefaultVCPUs\", 0)) or 0)\n",
    "\n",
    "    # MemoryInfo\n",
    "    mi = row.get(\"MemoryInfo\")\n",
    "    if mi:\n",
    "        parsed = try_parse_cell(mi)\n",
    "        if isinstance(parsed, dict):\n",
    "            mem = int(parsed.get(\"SizeInMiB\", 0) or 0)\n",
    "\n",
    "    # GpuInfo\n",
    "    gi = row.get(\"GpuInfo\")\n",
    "    if gi:\n",
    "        parsed = try_parse_cell(gi)\n",
    "        if isinstance(parsed, dict):\n",
    "            g_list = parsed.get(\"Gpus\") or []\n",
    "            if g_list and isinstance(g_list, list):\n",
    "                gpus = int(g_list[0].get(\"Count\", 0) or 0)\n",
    "\n",
    "    return {\"InstanceType\": name, \"vCPUs\": vcpu, \"MemoryMiB\": mem, \"GPUs\": gpus}\n",
    "\n",
    "def preprocess_catalog(input_csv, output_csv):\n",
    "    df = pd.read_csv(input_csv, dtype=str).fillna(\"\")\n",
    "    if \"InstanceType\" not in df.columns and \"instance_type\" in df.columns:\n",
    "        df.rename(columns={\"instance_type\": \"InstanceType\"}, inplace=True)\n",
    "\n",
    "    minimal_rows = []\n",
    "    for _, row in df.iterrows():\n",
    "        rowd = row.to_dict()\n",
    "        minimal = extract_minimal_resources_from_row(rowd)\n",
    "        if minimal[\"InstanceType\"]:\n",
    "            minimal_rows.append(minimal)\n",
    "\n",
    "    minimal_df = pd.DataFrame(minimal_rows)\n",
    "    minimal_df.to_csv(output_csv, index=False)\n",
    "    print(f\"Saved preprocessed catalog to {output_csv}, {len(minimal_df)} rows.\")"
   ]
  },
  {
   "cell_type": "code",
   "execution_count": 7,
   "id": "ed6e1af2",
   "metadata": {},
   "outputs": [
    {
     "name": "stdout",
     "output_type": "stream",
     "text": [
      "Saved preprocessed catalog to preprocessed_catalog.csv, 1044 rows.\n"
     ]
    }
   ],
   "source": [
    "preprocess_catalog(\"grouped_full_catalog.csv\", \"preprocessed_catalog.csv\")"
   ]
  },
  {
   "cell_type": "code",
   "execution_count": null,
   "id": "03233864",
   "metadata": {},
   "outputs": [],
   "source": []
  }
 ],
 "metadata": {
  "kernelspec": {
   "display_name": "Python 3 (ipykernel)",
   "language": "python",
   "name": "python3"
  },
  "language_info": {
   "codemirror_mode": {
    "name": "ipython",
    "version": 3
   },
   "file_extension": ".py",
   "mimetype": "text/x-python",
   "name": "python",
   "nbconvert_exporter": "python",
   "pygments_lexer": "ipython3",
   "version": "3.10.9"
  }
 },
 "nbformat": 4,
 "nbformat_minor": 5
}
